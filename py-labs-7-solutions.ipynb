{
 "cells": [
  {
   "cell_type": "markdown",
   "metadata": {
    "colab_type": "text",
    "id": "5MQ1R26MdNq3"
   },
   "source": [
    "# Lab 7\n",
    "\n",
    "* if /elif /else branching\n",
    "* string functions \n",
    "* len() \n",
    "* string in string"
   ]
  },
  {
   "cell_type": "markdown",
   "metadata": {},
   "source": [
    "## String Functions general"
   ]
  },
  {
   "cell_type": "code",
   "execution_count": 4,
   "metadata": {},
   "outputs": [
    {
     "name": "stdout",
     "output_type": "stream",
     "text": [
      "Type in a phrase or wordblah bhla bahl\n",
      "upper BLAH BHLA BAHL\n",
      "upper blah bhla bahl\n",
      "upper Blah Bhla Bahl\n",
      "upper Blah bhla bahl\n",
      "upper BLAH BHLA BAHL\n",
      "upper &&&&&&&&&&blah bhla bahl&&&&&&&&&&\n",
      "blah bhla bahl is lower case\n"
     ]
    }
   ],
   "source": [
    "phrase=input(\"Type in a phrase or word\")\n",
    "print(\"upper\", phrase.upper())\n",
    "print(\"upper\", phrase.lower())\n",
    "print(\"upper\", phrase.title())\n",
    "print(\"upper\", phrase.capitalize())\n",
    "print(\"upper\", phrase.swapcase())\n",
    "size=len(phrase)  # get original length\n",
    "size += 20        # add 20\n",
    "print(\"upper\", phrase.center(size,'&'))\n",
    "if (phrase.islower()):\n",
    "    print(phrase, \"is lower case\")\n",
    "if (phrase.isupper()):\n",
    "    print(phrase, \"is upper case\")\n",
    "if (phrase.isnumeric()):\n",
    "    print(phrase, \"is all digits no spaces\")\n",
    "if (phrase.isupper()):\n",
    "    print(phrase, \"is all alpha no spaces\")\n",
    "if (phrase.isspace()):\n",
    "    print(phrase, \"is all spaces\")\n"
   ]
  },
  {
   "cell_type": "markdown",
   "metadata": {
    "colab_type": "text",
    "id": "b7pw9DkDjuHD"
   },
   "source": [
    "## pets revisited:  favourite pets from lab 5b\n",
    "\n",
    "Ensure that any input can be understood. \n",
    "We would have to put in every combination of dog & cat in order"
   ]
  },
  {
   "cell_type": "code",
   "execution_count": 8,
   "metadata": {
    "colab": {},
    "colab_type": "code",
    "id": "NoFiXrvujuaH"
   },
   "outputs": [
    {
     "name": "stdout",
     "output_type": "stream",
     "text": [
      "Do you prefer cats or dogs, or pigs? cat\n",
      "What, not dogs!\n",
      "cats say meow\n",
      "cats disent miaou\n"
     ]
    }
   ],
   "source": [
    "# pmcampbell\n",
    "# 2019-02-25\n",
    "# pet preferences\n",
    "\n",
    "pets = input (\"Do you prefer cats or dogs, or pigs? \")\n",
    "pets = pets.lower()\n",
    "\n",
    "# fix the plural problem\n",
    "# if it doesn't end with s, add one\n",
    "if (not pets.endswith(\"s\")):\n",
    "    pets = pets+\"s\"\n",
    "\n",
    "if (pets == \"dogs\"):\n",
    "  print (pets, \"say woof\")\n",
    "else: \n",
    "  print (\"What, not dogs!\")\n",
    "\n",
    "if (pets == \"cats\"):\n",
    "  print (pets, \"say meow\")\n",
    "  print (pets, \"disent miaou\")\n",
    "\n",
    "if (pets == \"pigs\"):\n",
    "  print (pets, \"say oink\")"
   ]
  },
  {
   "cell_type": "markdown",
   "metadata": {
    "colab_type": "text",
    "id": "7y6xlaJZZgZ-"
   },
   "source": [
    "## Leap Year\n"
   ]
  },
  {
   "cell_type": "code",
   "execution_count": 3,
   "metadata": {
    "colab": {
     "base_uri": "https://localhost:8080/",
     "height": 52
    },
    "colab_type": "code",
    "executionInfo": {
     "elapsed": 2641,
     "status": "ok",
     "timestamp": 1551581298895,
     "user": {
      "displayName": "patricia campbell",
      "photoUrl": "https://lh3.googleusercontent.com/-WzoMl5oKuEc/AAAAAAAAAAI/AAAAAAAAEfI/aQjoXwFYbGU/s64/photo.jpg",
      "userId": "01316112760880234761"
     },
     "user_tz": 300
    },
    "id": "CioZ5e2qNRCa",
    "outputId": "4d139862-00b1-4cb6-e366-30791d4dfe17",
    "scrolled": false
   },
   "outputs": [
    {
     "name": "stdout",
     "output_type": "stream",
     "text": [
      "Enter a year blha blah bhla\n"
     ]
    },
    {
     "ename": "ValueError",
     "evalue": "invalid literal for int() with base 10: 'blha blah bhla'",
     "output_type": "error",
     "traceback": [
      "\u001b[1;31m---------------------------------------------------------------------------\u001b[0m",
      "\u001b[1;31mValueError\u001b[0m                                Traceback (most recent call last)",
      "\u001b[1;32m<ipython-input-3-bb94f1bb69bd>\u001b[0m in \u001b[0;36m<module>\u001b[1;34m\u001b[0m\n\u001b[0;32m      3\u001b[0m \u001b[1;31m# decide if a year is a leap year\u001b[0m\u001b[1;33m\u001b[0m\u001b[1;33m\u001b[0m\u001b[1;33m\u001b[0m\u001b[0m\n\u001b[0;32m      4\u001b[0m \u001b[1;33m\u001b[0m\u001b[0m\n\u001b[1;32m----> 5\u001b[1;33m \u001b[0myear\u001b[0m\u001b[1;33m=\u001b[0m\u001b[0mint\u001b[0m\u001b[1;33m(\u001b[0m\u001b[0minput\u001b[0m\u001b[1;33m(\u001b[0m\u001b[1;34m\"Enter a year \"\u001b[0m\u001b[1;33m)\u001b[0m\u001b[1;33m)\u001b[0m\u001b[1;33m\u001b[0m\u001b[1;33m\u001b[0m\u001b[0m\n\u001b[0m\u001b[0;32m      6\u001b[0m \u001b[1;33m\u001b[0m\u001b[0m\n\u001b[0;32m      7\u001b[0m \u001b[1;32mif\u001b[0m \u001b[1;33m(\u001b[0m\u001b[0myear\u001b[0m\u001b[1;33m/\u001b[0m\u001b[1;36m400\u001b[0m \u001b[1;33m==\u001b[0m \u001b[1;36m0\u001b[0m\u001b[1;33m)\u001b[0m \u001b[1;33m:\u001b[0m\u001b[1;33m\u001b[0m\u001b[1;33m\u001b[0m\u001b[0m\n",
      "\u001b[1;31mValueError\u001b[0m: invalid literal for int() with base 10: 'blha blah bhla'"
     ]
    }
   ],
   "source": [
    "# pmcampbell\n",
    "# 2019-03-04\n",
    "# decide if a year is a leap year\n",
    "\n",
    "year=int(input(\"Enter a year \"))\n",
    "\n",
    "if (year/400 == 0) :\n",
    "  print (year, \" is a leap year\")\n",
    "elif (year/100 != 0 ) :\n",
    "  print (year, \" is a leap year\")\n",
    "elif (year/4 == 0) :\n",
    "  print (year, \" is a leap year\")\n",
    "else :\n",
    "  print(year, \" is NOT a leap year\") "
   ]
  },
  {
   "cell_type": "markdown",
   "metadata": {
    "colab_type": "text",
    "id": "DuuGrS7OngNI"
   },
   "source": [
    "## Grammar fixer\n",
    "a [gerund](https://www.ef.com/ca/english-resources/english-grammar/gerund/) is a word that is derived from a verb but  functions as a noun\n",
    "It usually ends in ing\n",
    "ex work    becomes working"
   ]
  },
  {
   "cell_type": "code",
   "execution_count": 6,
   "metadata": {
    "colab": {
     "base_uri": "https://localhost:8080/",
     "height": 121
    },
    "colab_type": "code",
    "executionInfo": {
     "elapsed": 2660,
     "status": "ok",
     "timestamp": 1551586065911,
     "user": {
      "displayName": "patricia campbell",
      "photoUrl": "https://lh3.googleusercontent.com/-WzoMl5oKuEc/AAAAAAAAAAI/AAAAAAAAEfI/aQjoXwFYbGU/s64/photo.jpg",
      "userId": "01316112760880234761"
     },
     "user_tz": 300
    },
    "id": "KRER5q9jnfxM",
    "outputId": "8f666e90-5b83-42b8-918b-9fce3658ac68"
   },
   "outputs": [
    {
     "name": "stdout",
     "output_type": "stream",
     "text": [
      "Type in a word please: cat\n",
      "gerund  cating\n",
      "\n",
      "CAT\n",
      "cat\n",
      "Cat\n"
     ]
    }
   ],
   "source": [
    "# pmcampbell\n",
    "# 2019-02-25\n",
    "# create gerunds and adjectives\n",
    "\n",
    "word = input (\"Type in a word please: \")\n",
    "word = word.lower()\n",
    "\n",
    "if (len(word) > 3) :\n",
    "  if (\"ing\" in word) :\n",
    "    print (\"gerund \", word+\"ly\")\n",
    "  else :\n",
    "    print (\"gerund \", word+\"ing\")\n",
    "print ()    \n",
    "print (word.upper())    \n",
    "print (word.lower())\n",
    "print (word.capitalize())\n"
   ]
  },
  {
   "cell_type": "markdown",
   "metadata": {
    "colab_type": "text",
    "id": "OhNrQ7omxVRC"
   },
   "source": [
    "## Phrase changer"
   ]
  },
  {
   "cell_type": "code",
   "execution_count": 7,
   "metadata": {
    "colab": {
     "base_uri": "https://localhost:8080/",
     "height": 104
    },
    "colab_type": "code",
    "executionInfo": {
     "elapsed": 27054,
     "status": "ok",
     "timestamp": 1551586841739,
     "user": {
      "displayName": "patricia campbell",
      "photoUrl": "https://lh3.googleusercontent.com/-WzoMl5oKuEc/AAAAAAAAAAI/AAAAAAAAEfI/aQjoXwFYbGU/s64/photo.jpg",
      "userId": "01316112760880234761"
     },
     "user_tz": 300
    },
    "id": "ccNx8fzTxUwB",
    "outputId": "d4ba1020-6d63-4303-ef87-01546a1569e8"
   },
   "outputs": [
    {
     "name": "stdout",
     "output_type": "stream",
     "text": [
      "Enter a phrase the big black dog jumped over the lazy dog\n",
      "enter a word or characterdog\n",
      "enter a replacement word or character cat\n",
      "original  the big black dog jumped over the lazy dog\n",
      "swapped   the big black cat jumped over the lazy cat\n"
     ]
    }
   ],
   "source": [
    "# pmcampbell\n",
    "# 2019-02-25\n",
    "# create gerunds and adjectives\n",
    "\n",
    "phrase = input (\"Enter a phrase \")\n",
    "word = input (\"enter a word or character\")\n",
    "\n",
    "if (word in phrase ):\n",
    "  replace = input (\"enter a replacement word or character \")\n",
    "  print (\"original \", phrase)\n",
    "  print (\"swapped  \", phrase.replace(word,replace))"
   ]
  }
 ],
 "metadata": {
  "colab": {
   "name": "py-labs-7-solutions.ipynb",
   "provenance": [],
   "toc_visible": true,
   "version": "0.3.2"
  },
  "kernelspec": {
   "display_name": "Python 3",
   "language": "python",
   "name": "python3"
  },
  "language_info": {
   "codemirror_mode": {
    "name": "ipython",
    "version": 3
   },
   "file_extension": ".py",
   "mimetype": "text/x-python",
   "name": "python",
   "nbconvert_exporter": "python",
   "pygments_lexer": "ipython3",
   "version": "3.7.1"
  }
 },
 "nbformat": 4,
 "nbformat_minor": 1
}
